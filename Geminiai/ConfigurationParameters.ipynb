{
 "cells": [
  {
   "cell_type": "code",
   "execution_count": 1,
   "metadata": {},
   "outputs": [
    {
     "name": "stderr",
     "output_type": "stream",
     "text": [
      "g:\\python\\Lib\\site-packages\\tqdm\\auto.py:21: TqdmWarning: IProgress not found. Please update jupyter and ipywidgets. See https://ipywidgets.readthedocs.io/en/stable/user_install.html\n",
      "  from .autonotebook import tqdm as notebook_tqdm\n"
     ]
    }
   ],
   "source": [
    "import google.generativeai as genai\n",
    "genai.configure(api_key=api_key)"
   ]
  },
  {
   "cell_type": "code",
   "execution_count": 2,
   "metadata": {},
   "outputs": [],
   "source": [
    "model = genai.GenerativeModel('gemini-pro')"
   ]
  },
  {
   "cell_type": "code",
   "execution_count": 3,
   "metadata": {},
   "outputs": [],
   "source": [
    "def get_response(promt,generation_config):\n",
    "    response = model.generate_content(contents=promt,generation_config = generation_config)\n",
    "    return response"
   ]
  },
  {
   "cell_type": "code",
   "execution_count": 4,
   "metadata": {},
   "outputs": [
    {
     "name": "stdout",
     "output_type": "stream",
     "text": [
      "1. **The Moon is not a planet.** It is a natural satellite that orbits Earth.\n",
      "2. **The Moon has no atmosphere.** This means that there is no air or water on the Moon, and the surface is constantly bombarded by radiation from the Sun.\n",
      "3. **The Moon has a very thin crust.** The Moon's crust is only about 100 kilometers thick, which is much thinner than Earth's crust.\n"
     ]
    }
   ],
   "source": [
    "#config = genai.types.GenerationConfig(temperature=0.8,max_output_tokens = 3000)\n",
    "#config = genai.types.GenerationConfig(max_output_tokens = 150)\n",
    "#result = get_response(\"Tell me a micro story about the Moon\",config)\n",
    "\n",
    "config = genai.types.GenerationConfig(top_k=1,top_p=0,temperature=0)\n",
    "result = get_response(\"Tell me 3 facts about the moon\",config)\n",
    "print(result.text)"
   ]
  },
  {
   "cell_type": "code",
   "execution_count": 5,
   "metadata": {},
   "outputs": [
    {
     "data": {
      "text/plain": [
       "total_tokens: 91"
      ]
     },
     "execution_count": 5,
     "metadata": {},
     "output_type": "execute_result"
    }
   ],
   "source": [
    "model.count_tokens(result.text)"
   ]
  },
  {
   "cell_type": "code",
   "execution_count": 6,
   "metadata": {},
   "outputs": [
    {
     "name": "stdout",
     "output_type": "stream",
     "text": [
      "A, B, C, D, E, F, G, H, I, J, K, L, M, N, O, P, Q, R, S, T, U, V, W, \n"
     ]
    }
   ],
   "source": [
    "#config = genai.types.GenerationConfig(top_k=1, top_p=0,temperature=0)\n",
    "config = genai.types.GenerationConfig(stop_sequences=['X','x'])\n",
    "result = get_response(\"List the letters of the alphabet\", config)\n",
    "print(result.text)"
   ]
  },
  {
   "cell_type": "code",
   "execution_count": 7,
   "metadata": {},
   "outputs": [
    {
     "name": "stdout",
     "output_type": "stream",
     "text": [
      "Dear [Customer Name],\n",
      "\n",
      "Thank you for your recent purchase of [Product Name] shoes from our website. We appreciate your business and hope you enjoy your new footwear.\n",
      "\n",
      "These shoes were designed with comfort and style in mind, and we're confident they will become a favorite in your wardrobe. They feature [List of features and benefits].\n",
      "\n",
      "We would love to hear your feedback on your new shoes. Please don't hesitate to contact us with any questions or comments.\n",
      "\n",
      "Thank you again for your patronage. We value your support and look forward to serving you in the future.\n",
      "\n",
      "\n"
     ]
    }
   ],
   "source": [
    "#config = genai.types.GenerationConfig(stop_sequences=['Sincerely'])\n",
    "config = genai.types.GenerationConfig()\n",
    "result = get_response(\"white a customer support email, that thanks the customer for their purcharse of shoes. End it with 'Sincerely'\", config)\n",
    "print(result.text)"
   ]
  }
 ],
 "metadata": {
  "kernelspec": {
   "display_name": "Python 3",
   "language": "python",
   "name": "python3"
  },
  "language_info": {
   "codemirror_mode": {
    "name": "ipython",
    "version": 3
   },
   "file_extension": ".py",
   "mimetype": "text/x-python",
   "name": "python",
   "nbconvert_exporter": "python",
   "pygments_lexer": "ipython3",
   "version": "3.12.4"
  }
 },
 "nbformat": 4,
 "nbformat_minor": 2
}
