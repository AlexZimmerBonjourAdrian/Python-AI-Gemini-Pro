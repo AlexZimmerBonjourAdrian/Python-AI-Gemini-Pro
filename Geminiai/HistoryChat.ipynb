{
 "cells": [
  {
   "cell_type": "code",
   "execution_count": 7,
   "metadata": {},
   "outputs": [],
   "source": [
    "import google.generativeai as genai\n",
    "genai.configure(api_key=api_key)"
   ]
  },
  {
   "cell_type": "code",
   "execution_count": 8,
   "metadata": {},
   "outputs": [],
   "source": [
    "model = genai.GenerativeModel('gemini-pro')"
   ]
  },
  {
   "cell_type": "code",
   "execution_count": 9,
   "metadata": {},
   "outputs": [],
   "source": [
    "chat = model.start_chat()"
   ]
  },
  {
   "cell_type": "code",
   "execution_count": 10,
   "metadata": {},
   "outputs": [
    {
     "data": {
      "text/plain": [
       "google.generativeai.generative_models.ChatSession"
      ]
     },
     "execution_count": 10,
     "metadata": {},
     "output_type": "execute_result"
    }
   ],
   "source": [
    "type(chat)"
   ]
  },
  {
   "cell_type": "code",
   "execution_count": 11,
   "metadata": {},
   "outputs": [],
   "source": [
    "response = chat.send_message(\"Help me make a simple plan to start eating healthy.\")"
   ]
  },
  {
   "cell_type": "code",
   "execution_count": 12,
   "metadata": {},
   "outputs": [
    {
     "name": "stdout",
     "output_type": "stream",
     "text": [
      "**Simple Plan to Start Eating Healthy**\n",
      "\n",
      "**Day 1:**\n",
      "\n",
      "* Start with small changes, such as adding a fruit to breakfast or replacing a sugary snack with a vegetable.\n",
      "* Cook more meals at home to control ingredients and portions.\n",
      "\n",
      "**Day 2:**\n",
      "\n",
      "* Focus on whole, unprocessed foods like fruits, vegetables, whole grains, and lean proteins.\n",
      "* Limit processed foods, sugary drinks, and unhealthy fats.\n",
      "\n",
      "**Day 3:**\n",
      "\n",
      "* Hydrate with plenty of water throughout the day.\n",
      "* Choose lean protein sources, such as fish, chicken, beans, and tofu.\n",
      "\n",
      "**Day 4:**\n",
      "\n",
      "* Increase your intake of fiber by consuming whole grains, beans, and vegetables.\n",
      "* Limit your portion sizes and eat slowly to feel full.\n",
      "\n",
      "**Day 5:**\n",
      "\n",
      "* Pay attention to your hunger cues and eat only when you're hungry.\n",
      "* Avoid eating out of boredom or stress.\n",
      "\n",
      "**Day 6:**\n",
      "\n",
      "* Make small swaps, such as using olive oil instead of butter and opting for air-popped popcorn instead of chips.\n",
      "* Read food labels and be mindful of added sugars, salt, and unhealthy fats.\n",
      "\n",
      "**Day 7:**\n",
      "\n",
      "* Treat yourself to a healthy snack or meal that you enjoy.\n",
      "* Remember that progress takes time, and don't get discouraged by setbacks.\n",
      "\n",
      "**Additional Tips:**\n",
      "\n",
      "* Set realistic goals and don't try to change everything at once.\n",
      "* Make gradual changes over time to avoid feeling overwhelmed.\n",
      "* Consult with a registered dietitian or healthcare professional for personalized advice.\n",
      "* Find a support system, such as friends, family, or a nutritionist.\n"
     ]
    }
   ],
   "source": [
    "print(response.text)"
   ]
  },
  {
   "cell_type": "code",
   "execution_count": 13,
   "metadata": {},
   "outputs": [],
   "source": [
    " #chat.history"
   ]
  },
  {
   "cell_type": "code",
   "execution_count": 14,
   "metadata": {},
   "outputs": [],
   "source": [
    "response = chat.send_message(\"Give me more details, about you last point.\")"
   ]
  },
  {
   "cell_type": "code",
   "execution_count": 15,
   "metadata": {},
   "outputs": [
    {
     "name": "stdout",
     "output_type": "stream",
     "text": [
      "**Finding a Support System for Healthy Eating**\n",
      "\n",
      "Having a support system can be invaluable when making changes to your diet and lifestyle. It can provide motivation, accountability, and encouragement along the way. Here are some ways to find a support system:\n",
      "\n",
      "* **Friends and family:** Talk to your loved ones about your goals and ask for their support. They can help you stay motivated and make healthier choices.\n",
      "* **Online communities:** Join online forums or social media groups dedicated to healthy eating. Connect with others who are on a similar journey and share tips and support.\n",
      "* **Registered dietitian or nutritionist:** A registered dietitian or nutritionist can provide personalized advice, meal plans, and support. They can also help you address any underlying health conditions or dietary restrictions.\n",
      "* **Support groups:** There are many support groups available for people who are trying to lose weight or improve their eating habits. These groups provide a safe and supportive environment to share experiences and learn from others.\n",
      "* **Accountability partner:** Find a friend, family member, or colleague who is also interested in eating healthier. Check in with each other regularly to share progress and provide support.\n",
      "\n",
      "**Benefits of a Support System:**\n",
      "\n",
      "* **Motivation:** Having people to cheer you on and celebrate your successes can help you stay motivated and on track.\n",
      "* **Accountability:** Knowing that someone is counting on you can help you stay accountable and make healthier choices.\n",
      "* **Encouragement:** When you face challenges or setbacks, your support system can provide encouragement and help you overcome obstacles.\n",
      "* **Shared experiences:** Connecting with others who are on a similar journey can help you feel less alone and more understood.\n",
      "* **New ideas and recipes:** Sharing ideas and recipes with your support system can help you expand your healthy eating repertoire and stay inspired.\n",
      "\n",
      "Remember, building a strong support system takes time and effort. Be patient and persistent, and don't be afraid to ask for help when you need it.\n"
     ]
    }
   ],
   "source": [
    "print(response.text)"
   ]
  },
  {
   "cell_type": "code",
   "execution_count": 16,
   "metadata": {},
   "outputs": [
    {
     "data": {
      "text/plain": [
       "[parts {\n",
       "   text: \"Help me make a simple plan to start eating healthy.\"\n",
       " }\n",
       " role: \"user\",\n",
       " parts {\n",
       "   text: \"**Simple Plan to Start Eating Healthy**\\n\\n**Day 1:**\\n\\n* Start with small changes, such as adding a fruit to breakfast or replacing a sugary snack with a vegetable.\\n* Cook more meals at home to control ingredients and portions.\\n\\n**Day 2:**\\n\\n* Focus on whole, unprocessed foods like fruits, vegetables, whole grains, and lean proteins.\\n* Limit processed foods, sugary drinks, and unhealthy fats.\\n\\n**Day 3:**\\n\\n* Hydrate with plenty of water throughout the day.\\n* Choose lean protein sources, such as fish, chicken, beans, and tofu.\\n\\n**Day 4:**\\n\\n* Increase your intake of fiber by consuming whole grains, beans, and vegetables.\\n* Limit your portion sizes and eat slowly to feel full.\\n\\n**Day 5:**\\n\\n* Pay attention to your hunger cues and eat only when you\\'re hungry.\\n* Avoid eating out of boredom or stress.\\n\\n**Day 6:**\\n\\n* Make small swaps, such as using olive oil instead of butter and opting for air-popped popcorn instead of chips.\\n* Read food labels and be mindful of added sugars, salt, and unhealthy fats.\\n\\n**Day 7:**\\n\\n* Treat yourself to a healthy snack or meal that you enjoy.\\n* Remember that progress takes time, and don\\'t get discouraged by setbacks.\\n\\n**Additional Tips:**\\n\\n* Set realistic goals and don\\'t try to change everything at once.\\n* Make gradual changes over time to avoid feeling overwhelmed.\\n* Consult with a registered dietitian or healthcare professional for personalized advice.\\n* Find a support system, such as friends, family, or a nutritionist.\"\n",
       " }\n",
       " role: \"model\",\n",
       " parts {\n",
       "   text: \"Give me more details, about you last point.\"\n",
       " }\n",
       " role: \"user\",\n",
       " parts {\n",
       "   text: \"**Finding a Support System for Healthy Eating**\\n\\nHaving a support system can be invaluable when making changes to your diet and lifestyle. It can provide motivation, accountability, and encouragement along the way. Here are some ways to find a support system:\\n\\n* **Friends and family:** Talk to your loved ones about your goals and ask for their support. They can help you stay motivated and make healthier choices.\\n* **Online communities:** Join online forums or social media groups dedicated to healthy eating. Connect with others who are on a similar journey and share tips and support.\\n* **Registered dietitian or nutritionist:** A registered dietitian or nutritionist can provide personalized advice, meal plans, and support. They can also help you address any underlying health conditions or dietary restrictions.\\n* **Support groups:** There are many support groups available for people who are trying to lose weight or improve their eating habits. These groups provide a safe and supportive environment to share experiences and learn from others.\\n* **Accountability partner:** Find a friend, family member, or colleague who is also interested in eating healthier. Check in with each other regularly to share progress and provide support.\\n\\n**Benefits of a Support System:**\\n\\n* **Motivation:** Having people to cheer you on and celebrate your successes can help you stay motivated and on track.\\n* **Accountability:** Knowing that someone is counting on you can help you stay accountable and make healthier choices.\\n* **Encouragement:** When you face challenges or setbacks, your support system can provide encouragement and help you overcome obstacles.\\n* **Shared experiences:** Connecting with others who are on a similar journey can help you feel less alone and more understood.\\n* **New ideas and recipes:** Sharing ideas and recipes with your support system can help you expand your healthy eating repertoire and stay inspired.\\n\\nRemember, building a strong support system takes time and effort. Be patient and persistent, and don\\'t be afraid to ask for help when you need it.\"\n",
       " }\n",
       " role: \"model\"]"
      ]
     },
     "execution_count": 16,
     "metadata": {},
     "output_type": "execute_result"
    }
   ],
   "source": [
    "chat.history"
   ]
  },
  {
   "cell_type": "code",
   "execution_count": 17,
   "metadata": {},
   "outputs": [
    {
     "name": "stdout",
     "output_type": "stream",
     "text": [
      "Help me make a simple plan to start eating healthy.\n",
      "**Simple Plan to Start Eating Healthy**\n",
      "\n",
      "**Day 1:**\n",
      "\n",
      "* Start with small changes, such as adding a fruit to breakfast or replacing a sugary snack with a vegetable.\n",
      "* Cook more meals at home to control ingredients and portions.\n",
      "\n",
      "**Day 2:**\n",
      "\n",
      "* Focus on whole, unprocessed foods like fruits, vegetables, whole grains, and lean proteins.\n",
      "* Limit processed foods, sugary drinks, and unhealthy fats.\n",
      "\n",
      "**Day 3:**\n",
      "\n",
      "* Hydrate with plenty of water throughout the day.\n",
      "* Choose lean protein sources, such as fish, chicken, beans, and tofu.\n",
      "\n",
      "**Day 4:**\n",
      "\n",
      "* Increase your intake of fiber by consuming whole grains, beans, and vegetables.\n",
      "* Limit your portion sizes and eat slowly to feel full.\n",
      "\n",
      "**Day 5:**\n",
      "\n",
      "* Pay attention to your hunger cues and eat only when you're hungry.\n",
      "* Avoid eating out of boredom or stress.\n",
      "\n",
      "**Day 6:**\n",
      "\n",
      "* Make small swaps, such as using olive oil instead of butter and opting for air-popped popcorn instead of chips.\n",
      "* Read food labels and be mindful of added sugars, salt, and unhealthy fats.\n",
      "\n",
      "**Day 7:**\n",
      "\n",
      "* Treat yourself to a healthy snack or meal that you enjoy.\n",
      "* Remember that progress takes time, and don't get discouraged by setbacks.\n",
      "\n",
      "**Additional Tips:**\n",
      "\n",
      "* Set realistic goals and don't try to change everything at once.\n",
      "* Make gradual changes over time to avoid feeling overwhelmed.\n",
      "* Consult with a registered dietitian or healthcare professional for personalized advice.\n",
      "* Find a support system, such as friends, family, or a nutritionist.\n",
      "Give me more details, about you last point.\n",
      "**Finding a Support System for Healthy Eating**\n",
      "\n",
      "Having a support system can be invaluable when making changes to your diet and lifestyle. It can provide motivation, accountability, and encouragement along the way. Here are some ways to find a support system:\n",
      "\n",
      "* **Friends and family:** Talk to your loved ones about your goals and ask for their support. They can help you stay motivated and make healthier choices.\n",
      "* **Online communities:** Join online forums or social media groups dedicated to healthy eating. Connect with others who are on a similar journey and share tips and support.\n",
      "* **Registered dietitian or nutritionist:** A registered dietitian or nutritionist can provide personalized advice, meal plans, and support. They can also help you address any underlying health conditions or dietary restrictions.\n",
      "* **Support groups:** There are many support groups available for people who are trying to lose weight or improve their eating habits. These groups provide a safe and supportive environment to share experiences and learn from others.\n",
      "* **Accountability partner:** Find a friend, family member, or colleague who is also interested in eating healthier. Check in with each other regularly to share progress and provide support.\n",
      "\n",
      "**Benefits of a Support System:**\n",
      "\n",
      "* **Motivation:** Having people to cheer you on and celebrate your successes can help you stay motivated and on track.\n",
      "* **Accountability:** Knowing that someone is counting on you can help you stay accountable and make healthier choices.\n",
      "* **Encouragement:** When you face challenges or setbacks, your support system can provide encouragement and help you overcome obstacles.\n",
      "* **Shared experiences:** Connecting with others who are on a similar journey can help you feel less alone and more understood.\n",
      "* **New ideas and recipes:** Sharing ideas and recipes with your support system can help you expand your healthy eating repertoire and stay inspired.\n",
      "\n",
      "Remember, building a strong support system takes time and effort. Be patient and persistent, and don't be afraid to ask for help when you need it.\n"
     ]
    }
   ],
   "source": [
    "for item in chat.history:\n",
    "    print(item.parts[0].text)"
   ]
  },
  {
   "cell_type": "code",
   "execution_count": 18,
   "metadata": {},
   "outputs": [
    {
     "data": {
      "text/plain": [
       "total_tokens: 7"
      ]
     },
     "execution_count": 18,
     "metadata": {},
     "output_type": "execute_result"
    }
   ],
   "source": [
    "model.count_tokens('this is a random string of characters')"
   ]
  }
 ],
 "metadata": {
  "kernelspec": {
   "display_name": "Python 3",
   "language": "python",
   "name": "python3"
  },
  "language_info": {
   "codemirror_mode": {
    "name": "ipython",
    "version": 3
   },
   "file_extension": ".py",
   "mimetype": "text/x-python",
   "name": "python",
   "nbconvert_exporter": "python",
   "pygments_lexer": "ipython3",
   "version": "3.12.4"
  }
 },
 "nbformat": 4,
 "nbformat_minor": 2
}
