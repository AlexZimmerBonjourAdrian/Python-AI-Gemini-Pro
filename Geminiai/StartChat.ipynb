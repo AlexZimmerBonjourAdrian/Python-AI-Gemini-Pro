{
 "cells": [
  {
   "cell_type": "code",
   "execution_count": 1,
   "metadata": {},
   "outputs": [
    {
     "name": "stderr",
     "output_type": "stream",
     "text": [
      "g:\\python\\Lib\\site-packages\\tqdm\\auto.py:21: TqdmWarning: IProgress not found. Please update jupyter and ipywidgets. See https://ipywidgets.readthedocs.io/en/stable/user_install.html\n",
      "  from .autonotebook import tqdm as notebook_tqdm\n"
     ]
    }
   ],
   "source": [
    "import google.generativeai as genai\n",
    "genai.configure(api_key=api_key)"
   ]
  },
  {
   "cell_type": "code",
   "execution_count": 2,
   "metadata": {},
   "outputs": [
    {
     "data": {
      "text/plain": [
       "39"
      ]
     },
     "execution_count": 2,
     "metadata": {},
     "output_type": "execute_result"
    }
   ],
   "source": [
    "len(api_key)"
   ]
  },
  {
   "cell_type": "code",
   "execution_count": 3,
   "metadata": {},
   "outputs": [],
   "source": [
    "genai.configure(api_key=api_key)"
   ]
  },
  {
   "cell_type": "code",
   "execution_count": 4,
   "metadata": {},
   "outputs": [
    {
     "name": "stdout",
     "output_type": "stream",
     "text": [
      "models/chat-bison-001\n",
      "models/text-bison-001\n",
      "models/embedding-gecko-001\n",
      "models/gemini-1.0-pro\n",
      "models/gemini-1.0-pro-001\n",
      "models/gemini-1.0-pro-latest\n",
      "models/gemini-1.0-pro-vision-latest\n",
      "models/gemini-1.5-flash\n",
      "models/gemini-1.5-flash-001\n",
      "models/gemini-1.5-flash-latest\n",
      "models/gemini-1.5-pro\n",
      "models/gemini-1.5-pro-001\n",
      "models/gemini-1.5-pro-latest\n",
      "models/gemini-pro\n",
      "models/gemini-pro-vision\n",
      "models/embedding-001\n",
      "models/text-embedding-004\n",
      "models/aqa\n"
     ]
    }
   ],
   "source": [
    "for model in genai.list_models():\n",
    "    print(model.name)"
   ]
  },
  {
   "cell_type": "code",
   "execution_count": 5,
   "metadata": {},
   "outputs": [],
   "source": [
    "model = genai.GenerativeModel('gemini-pro')"
   ]
  },
  {
   "cell_type": "code",
   "execution_count": 6,
   "metadata": {},
   "outputs": [],
   "source": [
    "#prompt = \"What is the capital of the Uruguay?.\"\n",
    "prompt = \"Write a rap about Fallout game series\""
   ]
  },
  {
   "cell_type": "code",
   "execution_count": 7,
   "metadata": {},
   "outputs": [],
   "source": [
    "response = model.generate_content(prompt)"
   ]
  },
  {
   "cell_type": "code",
   "execution_count": 8,
   "metadata": {},
   "outputs": [
    {
     "name": "stdout",
     "output_type": "stream",
     "text": [
      "**Verse 1**\n",
      "In the wasteland's embrace, where chaos reigns supreme\n",
      "Fallout's tale unfolds, a dystopian dream\n",
      "From the ashes of war, a world left in decay\n",
      "Where hope flickers faintly, a fading ray\n",
      "\n",
      "**Chorus**\n",
      "Fallout, Fallout, a post-apocalyptic dance\n",
      "Where survival is key, a constant trance\n",
      "In the depths of Vaults, secrets lay hidden\n",
      "Uncovering the past, the future forbidden\n",
      "\n",
      "**Verse 2**\n",
      "Raiders roam freely, with malice in their eyes\n",
      "Super mutants lurk, as danger intensifies\n",
      "Ghouls and creatures haunt the irradiated land\n",
      "A symphony of terror, an endless battle planned\n",
      "\n",
      "**Verse 3**\n",
      "Through treacherous landscapes, we embark on our quest\n",
      "Scavenging for supplies, putting our lives to the test\n",
      "Factions arise, with ideals that divide\n",
      "The Enclave, the Brotherhood, their motives collide\n",
      "\n",
      "**Chorus**\n",
      "Fallout, Fallout, a post-apocalyptic dance\n",
      "Where survival is key, a constant trance\n",
      "In the depths of Vaults, secrets lay hidden\n",
      "Uncovering the past, the future forbidden\n",
      "\n",
      "**Bridge**\n",
      "From the Institute to the Hoover Dam's might\n",
      "Our choices shape the fate, leading towards the light\n",
      "Companions join us, offering aid and support\n",
      "As we navigate the wasteland, their presence warms our heart\n",
      "\n",
      "**Verse 4**\n",
      "Radiation lingers, a constant threat to our frame\n",
      "But hope persists, like a flickering flame\n",
      "In the darkness of despair, we find solace within\n",
      "Embracing the wasteland, where our stories begin\n",
      "\n",
      "**Chorus**\n",
      "Fallout, Fallout, a post-apocalyptic dance\n",
      "Where survival is key, a constant trance\n",
      "In the depths of Vaults, secrets lay hidden\n",
      "Uncovering the past, the future forbidden\n",
      "\n",
      "**Outro**\n",
      "So let us traverse this shattered land\n",
      "With courage as our guide, and determination in hand\n",
      "Fallout, a saga that forever shall inspire\n",
      "Leaving an imprint on our hearts, a wasteland fire\n"
     ]
    }
   ],
   "source": [
    "#response.text\n",
    "#response.prompt_feedback\n",
    "print(response.text)"
   ]
  },
  {
   "cell_type": "code",
   "execution_count": 9,
   "metadata": {},
   "outputs": [
    {
     "data": {
      "text/plain": [
       "[index: 0\n",
       "content {\n",
       "  parts {\n",
       "    text: \"**Verse 1**\\nIn the wasteland\\'s embrace, where chaos reigns supreme\\nFallout\\'s tale unfolds, a dystopian dream\\nFrom the ashes of war, a world left in decay\\nWhere hope flickers faintly, a fading ray\\n\\n**Chorus**\\nFallout, Fallout, a post-apocalyptic dance\\nWhere survival is key, a constant trance\\nIn the depths of Vaults, secrets lay hidden\\nUncovering the past, the future forbidden\\n\\n**Verse 2**\\nRaiders roam freely, with malice in their eyes\\nSuper mutants lurk, as danger intensifies\\nGhouls and creatures haunt the irradiated land\\nA symphony of terror, an endless battle planned\\n\\n**Verse 3**\\nThrough treacherous landscapes, we embark on our quest\\nScavenging for supplies, putting our lives to the test\\nFactions arise, with ideals that divide\\nThe Enclave, the Brotherhood, their motives collide\\n\\n**Chorus**\\nFallout, Fallout, a post-apocalyptic dance\\nWhere survival is key, a constant trance\\nIn the depths of Vaults, secrets lay hidden\\nUncovering the past, the future forbidden\\n\\n**Bridge**\\nFrom the Institute to the Hoover Dam\\'s might\\nOur choices shape the fate, leading towards the light\\nCompanions join us, offering aid and support\\nAs we navigate the wasteland, their presence warms our heart\\n\\n**Verse 4**\\nRadiation lingers, a constant threat to our frame\\nBut hope persists, like a flickering flame\\nIn the darkness of despair, we find solace within\\nEmbracing the wasteland, where our stories begin\\n\\n**Chorus**\\nFallout, Fallout, a post-apocalyptic dance\\nWhere survival is key, a constant trance\\nIn the depths of Vaults, secrets lay hidden\\nUncovering the past, the future forbidden\\n\\n**Outro**\\nSo let us traverse this shattered land\\nWith courage as our guide, and determination in hand\\nFallout, a saga that forever shall inspire\\nLeaving an imprint on our hearts, a wasteland fire\"\n",
       "  }\n",
       "  role: \"model\"\n",
       "}\n",
       "finish_reason: STOP\n",
       "safety_ratings {\n",
       "  category: HARM_CATEGORY_SEXUALLY_EXPLICIT\n",
       "  probability: NEGLIGIBLE\n",
       "}\n",
       "safety_ratings {\n",
       "  category: HARM_CATEGORY_HATE_SPEECH\n",
       "  probability: NEGLIGIBLE\n",
       "}\n",
       "safety_ratings {\n",
       "  category: HARM_CATEGORY_HARASSMENT\n",
       "  probability: NEGLIGIBLE\n",
       "}\n",
       "safety_ratings {\n",
       "  category: HARM_CATEGORY_DANGEROUS_CONTENT\n",
       "  probability: NEGLIGIBLE\n",
       "}\n",
       "]"
      ]
     },
     "execution_count": 9,
     "metadata": {},
     "output_type": "execute_result"
    }
   ],
   "source": [
    "response.candidates"
   ]
  },
  {
   "cell_type": "code",
   "execution_count": 10,
   "metadata": {},
   "outputs": [],
   "source": [
    "#print(response.text)"
   ]
  },
  {
   "cell_type": "code",
   "execution_count": 11,
   "metadata": {},
   "outputs": [],
   "source": [
    "def get_responde(prompt):\n",
    "    response = model.generate_content(prompt)\n",
    "    return response.text"
   ]
  }
 ],
 "metadata": {
  "kernelspec": {
   "display_name": "Python 3",
   "language": "python",
   "name": "python3"
  },
  "language_info": {
   "codemirror_mode": {
    "name": "ipython",
    "version": 3
   },
   "file_extension": ".py",
   "mimetype": "text/x-python",
   "name": "python",
   "nbconvert_exporter": "python",
   "pygments_lexer": "ipython3",
   "version": "3.12.4"
  }
 },
 "nbformat": 4,
 "nbformat_minor": 2
}
